{
 "cells": [
  {
   "cell_type": "markdown",
   "metadata": {},
   "source": [
    "# Upload JSON Example\n",
    "\n",
    "This notebook demonstrates how to use the `upload_json_to_ui` endpoint to send a JSON file and retrieve the generated URL for visualization in the Network Visualizer. It also includes the option to convert ASKCOS data using the `convert_askcos` parameter."
   ]
  },
  {
   "cell_type": "code",
   "execution_count": null,
   "id": "8e1935f6",
   "metadata": {},
   "outputs": [],
   "source": [
    "import requests\n",
    "\n",
    "# Define the API endpoint\n",
    "base_url = \"http://0.0.0.0:5099/upload_json_to_ui/\"\n",
    "\n",
    "# Define the room ID\n",
    "room_id = \"f447f778-d088-4ea0-9eeb-48efe48a9807\"  # Replace with the actual room ID\n",
    "\n",
    "# Specify whether to convert ASKCOS data\n",
    "convert_askcos = False  # Set to True to convert ASKCOS data, False otherwise\n",
    "\n",
    "# Construct the URL with the room ID and convert_askcos as query parameters\n",
    "url = f\"{base_url}?room_id={room_id}&convert_askcos={str(convert_askcos).lower()}\"\n",
    "\n",
    "# Path to the JSON file\n",
    "json_file_path = \"../ui/public/json_example_1.json\"\n",
    "\n",
    "# Open the JSON file\n",
    "with open(json_file_path, \"r\") as f:\n",
    "    json_data = f.read()\n",
    "\n",
    "# Send the request to the API without the file parameter\n",
    "response = requests.post(url, data={\"json_data\": json_data})\n",
    "\n",
    "# Check the response\n",
    "if response.status_code == 200:\n",
    "    data = response.json()\n",
    "    print(\"Upload successful!\")\n",
    "    print(\"Response data:\", data)\n",
    "else:\n",
    "    print(\"Failed to upload JSON.\")\n",
    "    print(\"Status code:\", response.status_code)\n",
    "    print(\"Response:\", response.text)"
   ]
  }
 ],
 "metadata": {
  "kernelspec": {
   "display_name": "aicp_unit_test",
   "language": "python",
   "name": "python3"
  },
  "language_info": {
   "codemirror_mode": {
    "name": "ipython",
    "version": 3
   },
   "file_extension": ".py",
   "mimetype": "text/x-python",
   "name": "python",
   "nbconvert_exporter": "python",
   "pygments_lexer": "ipython3",
   "version": "3.9.18"
  }
 },
 "nbformat": 4,
 "nbformat_minor": 5
}
