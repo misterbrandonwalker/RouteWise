{
 "cells": [
  {
   "cell_type": "markdown",
   "metadata": {},
   "source": [
    "# Upload JSON Example\n",
    "\n",
    "This notebook demonstrates how to use the `upload_json_to_ui` endpoint to send a JSON file and retrieve the generated URL for visualization in the Network Visualizer."
   ]
  },
  {
   "cell_type": "code",
   "execution_count": 2,
   "metadata": {},
   "outputs": [
    {
     "name": "stdout",
     "output_type": "stream",
     "text": [
      "Upload successful!\n",
      "URL for visualization: http://localhost:3000/render/c2f97d10-bd55-4871-9e15-0ff572ca349f\n"
     ]
    }
   ],
   "source": [
    "import requests\n",
    "\n",
    "# Define the API endpoint\n",
    "url = \"http://0.0.0.0:5099/upload_json_to_ui/\"\n",
    "\n",
    "# Path to the JSON file\n",
    "json_file_path = \"../ui/public/json_example_1.json\"\n",
    "\n",
    "# Open the JSON file\n",
    "files = {\"file\": open(json_file_path, \"rb\")}\n",
    "\n",
    "# Send the request to the API\n",
    "response = requests.post(url, files=files)\n",
    "\n",
    "# Close the file\n",
    "files[\"file\"].close()\n",
    "\n",
    "# Check the response\n",
    "if response.status_code == 200:\n",
    "    data = response.json()\n",
    "    print(\"Upload successful!\")\n",
    "else:\n",
    "    print(\"Failed to upload JSON.\")\n",
    "    print(\"Status code:\", response.status_code)\n",
    "    print(\"Response:\", response.text)"
   ]
  }
 ],
 "metadata": {
  "kernelspec": {
   "display_name": "Python 3",
   "language": "python",
   "name": "python3"
  },
  "language_info": {
   "codemirror_mode": {
    "name": "ipython",
    "version": 3
   },
   "file_extension": ".py",
   "mimetype": "text/x-python",
   "name": "python",
   "nbconvert_exporter": "python",
   "pygments_lexer": "ipython3",
   "version": "3.13.2"
  }
 },
 "nbformat": 4,
 "nbformat_minor": 4
}
