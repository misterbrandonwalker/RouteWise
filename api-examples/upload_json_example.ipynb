{
 "cells": [
  {
   "cell_type": "markdown",
   "metadata": {},
   "source": [
    "# Upload JSON Example\n",
    "\n",
    "This notebook demonstrates how to use the `upload_json_to_ui` endpoint to send a JSON file and retrieve the generated URL for visualization in the Network Visualizer."
   ]
  },
  {
   "cell_type": "code",
   "execution_count": null,
   "metadata": {},
   "outputs": [],
   "source": [
    "import requests\n",
    "\n",
    "# Define the API endpoint\n",
    "base_url = \"http://0.0.0.0:5099/upload_json_to_ui/\"\n",
    "\n",
    "# Define the room ID\n",
    "room_id = \"49a0c758-8565-4cf3-a2a4-d438e2e884e0\"  # Replace with the actual room ID\n",
    "\n",
    "# Construct the URL with the room ID as a query parameter\n",
    "url = f\"{base_url}?room_id={room_id}\"\n",
    "\n",
    "# Path to the JSON file\n",
    "json_file_path = \"../ui/public/json_example_1.json\"\n",
    "\n",
    "# Open the JSON file\n",
    "files = {\"file\": open(json_file_path, \"rb\")}\n",
    "\n",
    "# Send the request to the API\n",
    "response = requests.post(url, files=files)\n",
    "\n",
    "# Close the file\n",
    "files[\"file\"].close()\n",
    "\n",
    "# Check the response\n",
    "if response.status_code == 200:\n",
    "    data = response.json()\n",
    "    print(\"Upload successful!\")\n",
    "    print(\"Response data:\", data)\n",
    "else:\n",
    "    print(\"Failed to upload JSON.\")\n",
    "    print(\"Status code:\", response.status_code)\n",
    "    print(\"Response:\", response.text)"
   ]
  }
 ],
 "metadata": {
  "kernelspec": {
   "display_name": "aicp_unit_test",
   "language": "python",
   "name": "python3"
  },
  "language_info": {
   "codemirror_mode": {
    "name": "ipython",
    "version": 3
   },
   "file_extension": ".py",
   "mimetype": "text/x-python",
   "name": "python",
   "nbconvert_exporter": "python",
   "pygments_lexer": "ipython3",
   "version": "3.9.18"
  }
 },
 "nbformat": 4,
 "nbformat_minor": 4
}
